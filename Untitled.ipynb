{
 "cells": [
  {
   "cell_type": "code",
   "execution_count": 4,
   "metadata": {},
   "outputs": [],
   "source": [
    "filename = \"data/bounce-states_100-shot_2.p\"\n",
    "#batch_size = 25\n",
    "\n",
    "tasks = pickle.load(open(filename, \"rb\"))"
   ]
  },
  {
   "cell_type": "code",
   "execution_count": 3,
   "metadata": {
    "collapsed": true
   },
   "outputs": [],
   "source": [
    "import pickle"
   ]
  },
  {
   "cell_type": "code",
   "execution_count": 2,
   "metadata": {},
   "outputs": [
    {
     "ename": "NameError",
     "evalue": "name 'pickle' is not defined",
     "output_type": "error",
     "traceback": [
      "\u001b[0;31m---------------------------------------------------------------------------\u001b[0m",
      "\u001b[0;31mNameError\u001b[0m                                 Traceback (most recent call last)",
      "\u001b[0;32m<ipython-input-2-7bee8b28d43a>\u001b[0m in \u001b[0;36m<module>\u001b[0;34m()\u001b[0m\n\u001b[1;32m      2\u001b[0m \u001b[0;31m#batch_size = 25\u001b[0m\u001b[0;34m\u001b[0m\u001b[0;34m\u001b[0m\u001b[0m\n\u001b[1;32m      3\u001b[0m \u001b[0;34m\u001b[0m\u001b[0m\n\u001b[0;32m----> 4\u001b[0;31m \u001b[0mtasks\u001b[0m \u001b[0;34m=\u001b[0m \u001b[0mpickle\u001b[0m\u001b[0;34m.\u001b[0m\u001b[0mload\u001b[0m\u001b[0;34m(\u001b[0m\u001b[0mopen\u001b[0m\u001b[0;34m(\u001b[0m\u001b[0mfilename\u001b[0m\u001b[0;34m,\u001b[0m \u001b[0;34m\"rb\"\u001b[0m\u001b[0;34m)\u001b[0m\u001b[0;34m)\u001b[0m\u001b[0;34m\u001b[0m\u001b[0m\n\u001b[0m",
      "\u001b[0;31mNameError\u001b[0m: name 'pickle' is not defined"
     ]
    }
   ],
   "source": [
    "filename = \"data/bounce-states_100-shot_2.p\"\n",
    "#batch_size = 25\n",
    "\n",
    "tasks = pickle.load(open(filename, \"rb\"))"
   ]
  },
  {
   "cell_type": "code",
   "execution_count": 4,
   "metadata": {},
   "outputs": [
    {
     "data": {
      "text/plain": [
       "list"
      ]
     },
     "execution_count": 4,
     "metadata": {},
     "output_type": "execute_result"
    }
   ],
   "source": [
    "type(tasks['tasks_train'])"
   ]
  },
  {
   "cell_type": "code",
   "execution_count": 28,
   "metadata": {},
   "outputs": [
    {
     "data": {
      "text/plain": [
       "array([[  5.43156591,  10.3998514 ],\n",
       "       [ 23.3517287 ,  13.24550813],\n",
       "       [ 23.82431626,  32.24375273],\n",
       "       [  8.19451581,  28.64767152]])"
      ]
     },
     "execution_count": 28,
     "metadata": {},
     "output_type": "execute_result"
    }
   ],
   "source": [
    "tasks['tasks_train'][0][1]['z'].reshape(-1,2)"
   ]
  },
  {
   "cell_type": "code",
   "execution_count": 19,
   "metadata": {
    "collapsed": true
   },
   "outputs": [],
   "source": [
    "import matplotlib.pylab as plt"
   ]
  },
  {
   "cell_type": "code",
   "execution_count": 24,
   "metadata": {},
   "outputs": [
    {
     "data": {
      "image/png": "[encoded data removed]",
      "text/plain": [
       "<matplotlib.figure.Figure at 0x10db482e8>"
      ]
     },
     "metadata": {},
     "output_type": "display_data"
    }
   ],
   "source": [
    "plt.plot([1,2,3],[1,2,3])\n",
    "plt.show()"
   ]
  },
  {
   "cell_type": "code",
   "execution_count": 29,
   "metadata": {},
   "outputs": [
    {
     "data": {
      "text/plain": [
       "array([  5.43156591,  10.3998514 ,  23.3517287 ,  13.24550813,\n",
       "        23.82431626,  32.24375273,   8.19451581,  28.64767152])"
      ]
     },
     "execution_count": 29,
     "metadata": {},
     "output_type": "execute_result"
    }
   ],
   "source": [
    "tasks['tasks_train'][0][1]['z']"
   ]
  },
  {
   "cell_type": "code",
   "execution_count": 31,
   "metadata": {},
   "outputs": [],
   "source": [
    "boxCords = tasks['tasks_train'][0][1]['z'].reshape(-1,2)"
   ]
  },
  {
   "cell_type": "code",
   "execution_count": 57,
   "metadata": {},
   "outputs": [
    {
     "data": {
      "image/png": "[encoded data removed]",
      "text/plain": [
       "<matplotlib.figure.Figure at 0x10dc20ac8>"
      ]
     },
     "metadata": {},
     "output_type": "display_data"
    }
   ],
   "source": [
    "\n",
    "xCords = list(boxCords[:,0])\n",
    "yCords = list(boxCords[:,1])\n",
    "#Add last element to it.\n",
    "xCords.append(xCords[0])\n",
    "yCords.append(yCords[0])\n",
    "plt.plot(xCords,yCords)\n",
    "plt.show()"
   ]
  },
  {
   "cell_type": "code",
   "execution_count": 54,
   "metadata": {},
   "outputs": [],
   "source": [
    "xCords = list(boxCords[:,0])\n",
    "yCords = list(boxCords[:,1])\n",
    "#Add last element to it.\n",
    "xCords.append(xCords[0])\n",
    "yCords.append(yCords[0])"
   ]
  },
  {
   "cell_type": "code",
   "execution_count": 55,
   "metadata": {},
   "outputs": [
    {
     "data": {
      "text/plain": [
       "[5.431565911997799,\n",
       " 23.351728696913405,\n",
       " 23.824316264626525,\n",
       " 8.1945158079337652,\n",
       " 5.431565911997799]"
      ]
     },
     "execution_count": 55,
     "metadata": {},
     "output_type": "execute_result"
    }
   ],
   "source": [
    "xCords"
   ]
  },
  {
   "cell_type": "code",
   "execution_count": 56,
   "metadata": {},
   "outputs": [
    {
     "data": {
      "text/plain": [
       "[10.399851396602777,\n",
       " 13.245508128289678,\n",
       " 32.243752734065751,\n",
       " 28.647671520732906,\n",
       " 10.399851396602777]"
      ]
     },
     "execution_count": 56,
     "metadata": {},
     "output_type": "execute_result"
    }
   ],
   "source": [
    "yCords"
   ]
  },
  {
   "cell_type": "code",
   "execution_count": 84,
   "metadata": {},
   "outputs": [
    {
     "name": "stdout",
     "output_type": "stream",
     "text": [
      "[[ 0.25312698  0.64237946]\n",
      " [ 0.22848836  0.69071531]\n",
      " [ 0.3200658   0.72145456]]\n",
      "[[ 0.21123075  0.45590186]\n",
      " [ 0.26890275  0.37840816]\n",
      " [ 0.32657471  0.30091447]]\n",
      "[ 0.41164324  0.75219381]\n",
      "[[ 0.25312698  0.64237946  0.22848836  0.69071531  0.3200658   0.72145456]\n",
      " [ 0.19975267  0.52640122  0.21123075  0.45590186  0.26890275  0.37840816]]\n",
      "[ 0.32675523  0.69470823  0.23492731  0.66472554  0.23974587  0.62010926]\n",
      "200\n"
     ]
    }
   ],
   "source": [
    "import numpy as np\n",
    "firstTask = tasks['tasks_train'][0]\n",
    "data_firstTask = firstTask[0]\n",
    "info_firstTask = firstTask[1]\n",
    "traina = data_firstTask[0]\n",
    "trainb = data_firstTask[1]\n",
    "inputa = traina[0]\n",
    "labela = traina[1]\n",
    "\n",
    "inputb = trainb[0]\n",
    "labelb = trainb[1]\n",
    "\n",
    "reord_in_a = inputa.reshape(-1,6)\n",
    "reord_ou_a = labela.reshape(-1,2)\n",
    "reord_in_b = inputb.reshape(-1,6)\n",
    "reord_ou_b = labelb.reshape(-1,2)\n",
    "\n",
    "inputs = np.vstack((reord_in_a,reord_in_b))\n",
    "inputs = inputs.reshape(1,-1,6)\n",
    "    \n",
    "print(inputa[0])\n",
    "print(inputb[-2])\n",
    "print(reord_ou_a[0])\n",
    "print(reord_in_a[0:2])\n",
    "print(inputs[0][-1])\n",
    "print(len(inputs[0]))"
   ]
  },
  {
   "cell_type": "code",
   "execution_count": 67,
   "metadata": {},
   "outputs": [
    {
     "data": {
      "text/plain": [
       "{'z': array([  5.43156591,  10.3998514 ,  23.3517287 ,  13.24550813,\n",
       "         23.82431626,  32.24375273,   8.19451581,  28.64767152])}"
      ]
     },
     "execution_count": 67,
     "metadata": {},
     "output_type": "execute_result"
    }
   ],
   "source": [
    "tasks['tasks_train'][0][1]"
   ]
  },
  {
   "cell_type": "code",
   "execution_count": null,
   "metadata": {
    "collapsed": true
   },
   "outputs": [],
   "source": [
    "print(takss['tasks_train'][0][1])"
   ]
  },
  {
   "cell_type": "code",
   "execution_count": null,
   "metadata": {
    "collapsed": true
   },
   "outputs": [],
   "source": [
    "\n"
   ]
  }
 ],
 "metadata": {
  "kernelspec": {
   "display_name": "Python 3",
   "language": "python",
   "name": "python3"
  }
 },
 "nbformat": 4,
 "nbformat_minor": 2
}
