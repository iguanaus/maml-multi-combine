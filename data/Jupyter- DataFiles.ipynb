{
 "cells": [
  {
   "cell_type": "code",
   "execution_count": 1,
   "metadata": {},
   "outputs": [
    {
     "name": "stdout",
     "output_type": "stream",
     "text": [
      "hello\n"
     ]
    }
   ],
   "source": [
    "print(\"hello\")"
   ]
  },
  {
   "cell_type": "code",
   "execution_count": 2,
   "metadata": {
    "collapsed": true
   },
   "outputs": [],
   "source": [
    "import pickle \n",
    "import numpy as np"
   ]
  },
  {
   "cell_type": "code",
   "execution_count": 49,
   "metadata": {
    "collapsed": true
   },
   "outputs": [],
   "source": [
    "#filename = \"C-sin_10-shot_legit_2.p\"\n",
    "filename = \"C-sin_10-shot_legit_stateform.p\"\n",
    "tasks = pickle.load(open(filename, \"rb\"))"
   ]
  },
  {
   "cell_type": "code",
   "execution_count": 50,
   "metadata": {
    "collapsed": true
   },
   "outputs": [],
   "source": [
    "firstTask = tasks['tasks_train'][0]\n",
    "data_firstTask = firstTask[0]\n",
    "info_firstTask = firstTask[1]\n",
    "traina = data_firstTask[0]\n",
    "trainb = data_firstTask[1]\n",
    "inputa = traina[0]\n",
    "labela = traina[1]\n",
    "\n",
    "inputb = trainb[0]\n",
    "labelb = trainb[1]"
   ]
  },
  {
   "cell_type": "code",
   "execution_count": 62,
   "metadata": {
    "scrolled": true
   },
   "outputs": [
    {
     "name": "stdout",
     "output_type": "stream",
     "text": [
      "100\n",
      "1000\n",
      "2\n",
      "2\n",
      "{u'z': array([ 1.4248331 ,  2.84502999])}\n",
      "2\n",
      "2\n",
      "10\n",
      "10\n",
      "(3, 2)\n",
      "(3, 2)\n",
      "(100, 2)\n",
      "(100, 2)\n"
     ]
    }
   ],
   "source": [
    "len(traina[0])\n",
    "print(len(tasks['tasks_train']))\n",
    "print(len(tasks['tasks_test']))\n",
    "print(len(firstTask))\n",
    "print(len(firstTask[0]))\n",
    "print(firstTask[1])\n",
    "print(len(traina))\n",
    "print(len(trainb))\n",
    "print(len(inputa))\n",
    "print(len(inputb))\n",
    "print(inputa[0].shape)\n",
    "print(inputb[1].shape)\n",
    "print(labela[0].shape)\n",
    "print(labelb[0].shape)"
   ]
  },
  {
   "cell_type": "code",
   "execution_count": 7,
   "metadata": {
    "collapsed": true
   },
   "outputs": [],
   "source": [
    "ina_new = np.tile(inputa,(10,3,2))"
   ]
  },
  {
   "cell_type": "code",
   "execution_count": 26,
   "metadata": {},
   "outputs": [
    {
     "name": "stdout",
     "output_type": "stream",
     "text": [
      "(10, 1)\n",
      "(10, 30, 2)\n",
      "(10, 1)\n",
      "[ 0.86400986 -4.93738031 -2.74120474 -2.20810604 -1.00739515 -1.43184173\n",
      " -0.14290087 -3.46777463  4.95875311 -1.11199522]\n"
     ]
    }
   ],
   "source": [
    "print(inputa.shape)\n",
    "print(ina_new.shape)\n",
    "print(labela.shape)\n",
    "print(inputb.ravel())"
   ]
  },
  {
   "cell_type": "code",
   "execution_count": 28,
   "metadata": {},
   "outputs": [
    {
     "name": "stdout",
     "output_type": "stream",
     "text": [
      "[[1]\n",
      " [2]\n",
      " [3]\n",
      " [4]]\n",
      "[1 2 3 4]\n"
     ]
    }
   ],
   "source": [
    "c = np.array([[1],[2],[3],[4]])\n",
    "print(c)\n",
    "print(c.ravel())"
   ]
  },
  {
   "cell_type": "code",
   "execution_count": 48,
   "metadata": {},
   "outputs": [
    {
     "name": "stdout",
     "output_type": "stream",
     "text": [
      "(10, 1)\n"
     ]
    },
    {
     "data": {
      "text/plain": [
       "(10, 3, 2)"
      ]
     },
     "execution_count": 48,
     "metadata": {},
     "output_type": "execute_result"
    }
   ],
   "source": [
    "c = inputa\n",
    "print(c.shape)\n",
    "np.tile(c.ravel(),(6,1)).transpose().reshape(-1,3,2).shape"
   ]
  },
  {
   "cell_type": "code",
   "execution_count": 18,
   "metadata": {},
   "outputs": [
    {
     "name": "stdout",
     "output_type": "stream",
     "text": [
      "(4, 1)\n"
     ]
    }
   ],
   "source": [
    "print(c.shape)"
   ]
  },
  {
   "cell_type": "code",
   "execution_count": null,
   "metadata": {
    "collapsed": true
   },
   "outputs": [],
   "source": [
    "np.tile(c,(4,1,2))"
   ]
  }
 ],
 "metadata": {
  "kernelspec": {
   "display_name": "Python 2",
   "language": "python",
   "name": "python2"
  },
  "language_info": {
   "codemirror_mode": {
    "name": "ipython",
    "version": 2
   },
   "file_extension": ".py",
   "mimetype": "text/x-python",
   "name": "python",
   "nbconvert_exporter": "python",
   "pygments_lexer": "ipython2",
   "version": "2.7.14"
  }
 },
 "nbformat": 4,
 "nbformat_minor": 2
}
